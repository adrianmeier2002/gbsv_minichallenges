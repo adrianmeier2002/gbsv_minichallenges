{
 "cells": [
  {
   "cell_type": "code",
   "execution_count": 5,
   "id": "3a6393aa",
   "metadata": {},
   "outputs": [],
   "source": [
    "# Imports\n",
    "import pandas as pd\n",
    "import numpy as np\n",
    "import matplotlib.pyplot as plt"
   ]
  },
  {
   "cell_type": "code",
   "execution_count": 17,
   "id": "05a894d5",
   "metadata": {},
   "outputs": [
    {
     "name": "stdout",
     "output_type": "stream",
     "text": [
      "        Observed_date  Sealevel\n",
      "0 2015-01-01 00:00:00      0.32\n",
      "1 2015-01-01 01:00:00      0.32\n",
      "2 2015-01-01 02:00:00      0.33\n",
      "3 2015-01-01 03:00:00      0.33\n",
      "4 2015-01-01 04:00:00      0.33\n"
     ]
    }
   ],
   "source": [
    "# Einlesen der CSV-Datei\n",
    "water = pd.read_csv(\n",
    "    \"data/st_lawrence_water.csv\",\n",
    "    skiprows=8, \n",
    "    usecols=[0, 1],                # nur die ersten beiden Spalten laden\n",
    "    names=[\"Observed_date\", \"Sealevel\"],    # Spaltennamen setzen\n",
    "    parse_dates=[\"Observed_date\"],      # Datum parsen\n",
    "    encoding=\"latin1\"\n",
    ")\n",
    "\n",
    "print(water.head())"
   ]
  }
 ],
 "metadata": {
  "kernelspec": {
   "display_name": "Python 3",
   "language": "python",
   "name": "python3"
  },
  "language_info": {
   "codemirror_mode": {
    "name": "ipython",
    "version": 3
   },
   "file_extension": ".py",
   "mimetype": "text/x-python",
   "name": "python",
   "nbconvert_exporter": "python",
   "pygments_lexer": "ipython3",
   "version": "3.12.6"
  }
 },
 "nbformat": 4,
 "nbformat_minor": 5
}
